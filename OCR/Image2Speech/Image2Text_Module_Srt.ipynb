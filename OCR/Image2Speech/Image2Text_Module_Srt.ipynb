{
 "cells": [
  {
   "cell_type": "code",
   "execution_count": 1,
   "metadata": {},
   "outputs": [],
   "source": [
    "from PIL import Image\n",
    "import pytesseract\n",
    "import numpy as np\n",
    "import cv2"
   ]
  },
  {
   "cell_type": "code",
   "execution_count": 3,
   "metadata": {},
   "outputs": [],
   "source": [
    "filename = '/Users/SarthakPratik/Downloads/WhatsApp Image 2021-02-16 at 12.57.29 PM.jpeg'\n",
    "img = np.array(Image.open(filename))"
   ]
  },
  {
   "cell_type": "code",
   "execution_count": 4,
   "metadata": {},
   "outputs": [],
   "source": [
    "norm_img = np.zeros((img.shape[0], img.shape[1]))\n",
    "img = cv2.normalize(img, norm_img, 0, 255, cv2.NORM_MINMAX)\n",
    "img = cv2.threshold(img, 100, 255, cv2.THRESH_BINARY)[1]\n",
    "img = cv2.GaussianBlur(img, (1, 1), 0)"
   ]
  },
  {
   "cell_type": "code",
   "execution_count": 5,
   "metadata": {},
   "outputs": [],
   "source": [
    "text = pytesseract.image_to_string(img)"
   ]
  },
  {
   "cell_type": "code",
   "execution_count": 6,
   "metadata": {},
   "outputs": [
    {
     "name": "stdout",
     "output_type": "stream",
     "text": [
      "Such a fructose intolerance can alse affect our rood “ugar\n",
      "helps the body absorb many other nutrients into the bloodst rears.\n",
      "The amino acid Tryptophan likes to latch on to fructose durcg\n",
      "digestion. for example. When there is so much fructose in our gt\n",
      "that most of it cannot be absorbed into the blood, ana we .os¢\n",
      "that sugar, we also lose the Tryptophan attached to it. Trvptapran.\n",
      "for its part, is needed by the body to produce serotanin — 4\n",
      "neurotransmitter which gained fame as the ‘happiness hormone\n",
      "after it was discovered that a lack of it can cause depression. Tnus.\n",
      "a long-unrecognised fructose intolerance can lead to depressive\n",
      "disorders. General practitioners and family doctors are only now\n",
      "beginning to include this knowledge in their diagnostic tooixt.\n",
      "\f",
      "\n"
     ]
    }
   ],
   "source": [
    "print(text)"
   ]
  },
  {
   "cell_type": "code",
   "execution_count": null,
   "metadata": {},
   "outputs": [],
   "source": []
  }
 ],
 "metadata": {
  "kernelspec": {
   "display_name": "Python 3",
   "language": "python",
   "name": "python3"
  },
  "language_info": {
   "codemirror_mode": {
    "name": "ipython",
    "version": 3
   },
   "file_extension": ".py",
   "mimetype": "text/x-python",
   "name": "python",
   "nbconvert_exporter": "python",
   "pygments_lexer": "ipython3",
   "version": "3.8.5"
  }
 },
 "nbformat": 4,
 "nbformat_minor": 4
}
